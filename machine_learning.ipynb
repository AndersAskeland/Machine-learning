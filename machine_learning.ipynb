{
  "cells": [
    {
      "cell_type": "raw",
      "metadata": {},
      "source": [
        "---\n",
        "title: Machine learning - 2022\n",
        "author: Anders Askeland\n",
        "format:\n",
        "  html:\n",
        "    self-contained: true\n",
        "    code-fold: true\n",
        "toc: true\n",
        "toc-depth: 3\n",
        "---"
      ],
      "id": "ed02721b"
    },
    {
      "cell_type": "markdown",
      "metadata": {},
      "source": [
        "# Course\n",
        "## 1. Lectures\n",
        "### Lecture 1 - ***\n",
        "TODO\n",
        "# Group work"
      ],
      "id": "8299788f"
    },
    {
      "cell_type": "code",
      "metadata": {},
      "source": [
        "# )mports\n",
        "import pandas as pd\n",
        "import numpy as np\n",
        "import wfdb\n",
        "import ast"
      ],
      "id": "98232b86",
      "execution_count": null,
      "outputs": []
    },
    {
      "cell_type": "markdown",
      "metadata": {},
      "source": [
        "# Precourse work\n",
        "## 1. Hands on machine learning\n",
        "Notes and work from the book Hand on machine learning\n",
        "\n",
        "### Chapter 1 - Introduction to machine learning\n",
        "* A K nearest neigbors approach takes the average between neighbors (you define how many to use).\n",
        "\n",
        "#### Example data analysis"
      ],
      "id": "e6e6e50a"
    },
    {
      "cell_type": "code",
      "metadata": {},
      "source": [
        "# Imports\n",
        "import matplotlib.pyplot as plt\n",
        "import numpy as np\n",
        "import pandas as pd\n",
        "import sklearn.linear_model\n",
        "import sklearn.neighbors\n",
        "\n",
        "# Load data\n",
        "oecd_bli = pd.read_csv(\"datasets/lifesat/oecd_bli_2015.csv\", thousands=\",\")\n",
        "gdp_per_capita = pd.read_csv(\"datasets/lifesat/gdp_per_capita.csv\", thousands=\",\", delimiter=\"\\t\", encoding=\"latin1\", na_values=\"n/a\")\n",
        "\n",
        "# Clean data\n",
        "oecd_bli = oecd_bli[oecd_bli[\"INEQUALITY\"]==\"TOT\"]\n",
        "oecd_bli = oecd_bli.pivot(index=\"Country\", columns=\"Indicator\", values=\"Value\")\n",
        "\n",
        "# Rename stuff\n",
        "gdp_per_capita.rename(columns={\"2015\": \"GDP per capita\"}, inplace=True)\n",
        "\n",
        "# Sex index\n",
        "gdp_per_capita.set_index(\"Country\", inplace=True)\n",
        "\n",
        "# Join two datasets\n",
        "full_country_stats = pd.merge(left=oecd_bli, right=gdp_per_capita,\n",
        "                            left_index=True, right_index=True)\n",
        "full_country_stats.sort_values(by=\"GDP per capita\", inplace=True)\n",
        "\n",
        "# Remove some stuff. Perhaps OECD and more\n",
        "remove_indices = [0, 1, 6, 8, 33, 34, 35]\n",
        "keep_indices = list(set(range(36)) - set(remove_indices))\n",
        "country_stats = full_country_stats[[\"GDP per capita\", 'Life satisfaction']].iloc[keep_indices]\n",
        "\n",
        "X = np.c_[country_stats[\"GDP per capita\"]]\n",
        "y = np.c_[country_stats[\"Life satisfaction\"]]\n",
        "\n",
        "# Visualize the data\n",
        "country_stats.plot(kind='scatter', x=\"GDP per capita\", y='Life satisfaction')\n",
        "plt.show()\n",
        "\n",
        "# Select a linear model\n",
        "model = sklearn.linear_model.LinearRegression()\n",
        "model_k = sklearn.neighbors.KNeighborsRegressor(n_neighbors=3)\n",
        "\n",
        "# Train model\n",
        "model.fit(X, y)\n",
        "model_k.fit(X, y)\n",
        "\n",
        "# Make prediction\n",
        "X_new = [[22587]]  # Cyprus' GDP per capita\n",
        "print(f\"Cyprus GDP is predicted to be (linear): {model.predict(X_new)[0][0]}\") # outputs [[ 5.96242338]]\n",
        "print(f\"Cyprus GDP is predicted to be (neighbor): {model_k.predict(X_new)[0][0]}\") # outputs [[ 5.96242338]]"
      ],
      "id": "2d9af545",
      "execution_count": null,
      "outputs": []
    }
  ],
  "metadata": {
    "kernelspec": {
      "name": "python3",
      "language": "python",
      "display_name": "Python 3 (ipykernel)"
    }
  },
  "nbformat": 4,
  "nbformat_minor": 5
}